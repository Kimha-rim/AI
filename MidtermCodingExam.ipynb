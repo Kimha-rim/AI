{
 "cells": [
  {
   "cell_type": "markdown",
   "metadata": {},
   "source": [
    "# Take-home Coding Midterm\n",
    "\n",
    "#### Honor Code\n",
    "Include the following line at the top of your every source file with your name signed.\n",
    "On my honor, I pledge that I have neither received nor provided improper assistance in the completion of this assignment. \n",
    "\n",
    "`Name Signed: _________________      Student Number: _________________`\n",
    "\n",
    "\n",
    "__Due__: This part of exam should be uploaded in Piazza midterm folder __before__ in-class midterm. \n",
    "\n",
    "__Points__: \n",
    "\n",
    "1. Points for take-home coding midterm: 50 points\n",
    "    - Lec01: 6 * 1 = 6\n",
    "    - Lec02: 5 * 1 = 5\n",
    "    - Lec03: 3 * 1 = 3\n",
    "    - Lec04: 4 * 1 = 4\n",
    "    - Lec05: 6 * 2 = 12\n",
    "    - py4e: 20 (upload a screen capture showing your achievement.)\n",
    "2. Points for in-class midterm: 50 points \n",
    "    - questions from video lectures and in-class materials: 40\n",
    "    - one coding question about using list(refer to py4e.): 10   "
   ]
  },
  {
   "cell_type": "markdown",
   "metadata": {},
   "source": [
    "# Lec01 DataTypes "
   ]
  },
  {
   "cell_type": "markdown",
   "metadata": {},
   "source": [
    "### 1. Given an integer number, print its last digit."
   ]
  },
  {
   "cell_type": "code",
   "execution_count": null,
   "metadata": {},
   "outputs": [],
   "source": [
    "# Read an integer:\n",
    "a = int(input())\n",
    "print(a)\n",
    "# print the last digit of a which is an integer.\n",
    "# for example, print 5 if 35, 6 if 6, 9 if 5679. "
   ]
  },
  {
   "cell_type": "markdown",
   "metadata": {},
   "source": [
    "### 2. Given a three-digit number. Find the sum of its digits."
   ]
  },
  {
   "cell_type": "code",
   "execution_count": null,
   "metadata": {},
   "outputs": [],
   "source": [
    "# Read an integer:\n",
    "a = int(input())\n",
    "print(a)\n",
    "# for example, print 6 if a is 123, 18 if a is 369. \n",
    "# assume that a is a three digit number.\n"
   ]
  },
  {
   "cell_type": "markdown",
   "metadata": {},
   "source": [
    "### 3. Clock displays military time\n",
    "\n",
    "The integer N given is the number of minutes that is passed since midnight. Display the hour and minute in military time. The program should print two numbers: the number of hours (between 0 and 23) and the number of minutes (between 0 and 59). For example, if N = 150, then 150 minutes have passed since midnight - i.e. now is 2:30 am. So the program should print 2:30."
   ]
  },
  {
   "cell_type": "code",
   "execution_count": null,
   "metadata": {},
   "outputs": [],
   "source": [
    "# Read an integer:\n",
    "a = int(input())\n",
    "print(a)\n",
    "# print 3:0 for 180, 7:24 for 444, 18:31 for 1111, 23:59 for 1439 "
   ]
  },
  {
   "cell_type": "markdown",
   "metadata": {},
   "source": [
    "### 4. Separate integer part and decimal part\n",
    "\n",
    "Given a positive real number with a decmal point, print its integer part and decimal part. Use some arithmatic operators, not str().\n",
    "\n",
    "For example:\n",
    "```\n",
    "123.456\n",
    "123\n",
    "456\n",
    "```\n",
    "```\n",
    "0.1234\n",
    "0\n",
    "1234\n",
    "```"
   ]
  },
  {
   "cell_type": "code",
   "execution_count": null,
   "metadata": {},
   "outputs": [],
   "source": [
    "# Read a real number:\n",
    "x = input()"
   ]
  },
  {
   "cell_type": "markdown",
   "metadata": {},
   "source": [
    "### 5. Separate integer part and decimal part\n",
    "\n",
    "Given a positive real number with a decmal point, print its integer part and decimal part. Use str() and slicing, but not arithmatic operators.\n",
    "\n",
    "For example:\n",
    "```\n",
    "123.456\n",
    "123\n",
    "456\n",
    "```\n",
    "```\n",
    "0.1234\n",
    "0\n",
    "1234\n",
    "```"
   ]
  },
  {
   "cell_type": "markdown",
   "metadata": {},
   "source": [
    "### 6. Equal numbers\n",
    "\n",
    "Given three integers, determine how many of them are equal to each other. The program must print one of these numbers: 3 (if all are the same), 2 (if two of them are equal to each other and the third is different) or 0 (if all numbers are different)."
   ]
  },
  {
   "cell_type": "code",
   "execution_count": null,
   "metadata": {},
   "outputs": [],
   "source": [
    "# Read an integer:\n",
    "x = int(input(\"x:\"))\n",
    "y = int(input(\"y:\"))\n",
    "z = int(input(\"z:\"))"
   ]
  },
  {
   "cell_type": "markdown",
   "metadata": {},
   "source": [
    "# Lec02 Strings \n",
    "\n",
    "### 1. To swap the two words\n",
    "\n",
    "Given a string consisting of exactly two words separated by a space. Print a new string with the first and second word positions swapped (the second word is printed first).\n",
    "This task should not use `loop`s and `if`. You may use `find()` and slicing.\n",
    "\n",
    "For example:\n",
    "```\n",
    "Hello, World!       World! Hello,\n",
    "H D                 D H\n",
    "Sola Gratia!        Gratia! Sola\n",
    "race car            car race\n",
    "```"
   ]
  },
  {
   "cell_type": "code",
   "execution_count": null,
   "metadata": {},
   "outputs": [],
   "source": [
    "s = input()\n",
    "\n"
   ]
  },
  {
   "cell_type": "markdown",
   "metadata": {},
   "source": [
    "### 2. The first and last occurrence\n",
    "\n",
    "Given a string that may or may not contain a letter of interest. Print the index location of the first and last appearance of `f`. If the letter `f` occurs only once, then output its index. If the letter f does not occur, then do not print anything.\n",
    "\n",
    "Don't use loops in this task.  You may use `find()` and `rfind()`.\n",
    "\n",
    "For example:\n",
    "- comfort 3\n",
    "- office  1 2\n",
    "- hello   \n",
    "- fide  0 \n",
    "- affffa  1 5\n",
    "- ffff  0 3"
   ]
  },
  {
   "cell_type": "code",
   "execution_count": null,
   "metadata": {},
   "outputs": [],
   "source": [
    "s = input()\n",
    "\n"
   ]
  },
  {
   "cell_type": "markdown",
   "metadata": {},
   "source": [
    "### 3. Replace the substring\n",
    "\n",
    "Given a string. Replace in this string all the numbers 1 by the word one.\n",
    "\n",
    "For example:\n",
    "```\n",
    "1 + 1 = 2   -->   one + one = two\n",
    "11111 --> oneoneoneoneone\n",
    "Jesus Alone --> Jesus Alone\n",
    "```"
   ]
  },
  {
   "cell_type": "code",
   "execution_count": null,
   "metadata": {},
   "outputs": [],
   "source": [
    "# your code here"
   ]
  },
  {
   "cell_type": "markdown",
   "metadata": {},
   "source": [
    "### 4. Delete a character\n",
    "Given a string, remove all occurrences of the dot(.) character.\n",
    "For example:\n",
    "```\n",
    "Mr. Kim  --> Mr Kim\n",
    "My love...  --> My love\n",
    "....   -->\n",
    "This .. is removed. --> This is removed\n",
    "```"
   ]
  },
  {
   "cell_type": "code",
   "execution_count": null,
   "metadata": {},
   "outputs": [],
   "source": [
    "# your code here"
   ]
  },
  {
   "cell_type": "markdown",
   "metadata": {},
   "source": [
    "### 5. Remove between\n",
    "\n",
    "Given a string in which the letter `g` occurs at least twice. Remove from that string the first and the last occurrence of the letter `g`, as well as all the characters between them.\n",
    "\n",
    "For example,\n",
    "\n",
    "```\n",
    "In all things God works for the good of those who love him.\n",
    "-> In all thinood of those who love him.\n",
    "\n",
    "The good man brings good things out of the good stored up in his heart.\n",
    "-> The good stored up in this heart\n",
    "\n",
    "my garbage in garbage out -> my e out\n",
    "\n",
    "google -> le\n",
    "\n",
    "garage -> e\n",
    "\n",
    "gag ->\n",
    "```"
   ]
  },
  {
   "cell_type": "code",
   "execution_count": null,
   "metadata": {},
   "outputs": [],
   "source": [
    "s = input()\n"
   ]
  },
  {
   "cell_type": "code",
   "execution_count": null,
   "metadata": {},
   "outputs": [],
   "source": [
    "s = input()\n",
    "\n"
   ]
  },
  {
   "cell_type": "markdown",
   "metadata": {},
   "source": [
    "# Lec03 ForWithRange \n",
    "\n",
    "### 1. Count to N\n",
    "\n",
    "Given an integer N, print all the numbers from 1 to N twice as shown below.\n",
    "```\n",
    "N = 5\n",
    "1\n",
    "2\n",
    "3\n",
    "4\n",
    "5\n",
    "1 2 3 4 5\n",
    "```"
   ]
  },
  {
   "cell_type": "code",
   "execution_count": null,
   "metadata": {},
   "outputs": [],
   "source": [
    "N = int(input())\n",
    "print('N =', N)\n"
   ]
  },
  {
   "cell_type": "markdown",
   "metadata": {},
   "source": [
    "### 2. Given an integer N, print all the odd numbers from 1 to N.\n",
    "\n",
    "Given an integer N, print all the odd numbers from 1 to N in ascending order."
   ]
  },
  {
   "cell_type": "markdown",
   "metadata": {},
   "source": [
    "1 2 3 4 5"
   ]
  },
  {
   "cell_type": "code",
   "execution_count": null,
   "metadata": {},
   "outputs": [],
   "source": [
    "# your code here\n",
    "N = int(input())\n",
    "print('N =', N)"
   ]
  },
  {
   "cell_type": "markdown",
   "metadata": {},
   "source": [
    "### 3. Ladder \n",
    "\n",
    "For given integer n ≤ 9 print a ladder of n steps. The k-th step consists of the integers from 1 to k without spaces between them.\n",
    "To do that, you can use the sep and end arguments for the function print().\n",
    "\n",
    "```\n",
    "n = 5\t\n",
    "1\n",
    "12\n",
    "123\n",
    "1234\n",
    "12345\n",
    "\n",
    "n = 3\n",
    "1\n",
    "12\n",
    "123\n",
    "```"
   ]
  },
  {
   "cell_type": "code",
   "execution_count": null,
   "metadata": {},
   "outputs": [],
   "source": [
    "# your code here\n",
    "n = int(input())\n",
    "print('n =', n)"
   ]
  },
  {
   "cell_type": "markdown",
   "metadata": {},
   "source": [
    "# Lec04 Lists  "
   ]
  },
  {
   "cell_type": "markdown",
   "metadata": {},
   "source": [
    "### 1. Swap neighbours\n",
    "\n",
    "Given a list of numbers, swap adjacent items in pairs (`a[0]` with `a[1]`, `a[2]` with `a[3]`, etc.). Print the resulting list. If a list has an odd number of elements, leave the last element in place.\n",
    "\n",
    "For example:\n",
    "```\n",
    "a = [1, 2, 3]\n",
    "2 1 3\n",
    "```\n",
    "```\n",
    "a = [0, 9, 4, 5, 2, 3]\n",
    "9 0 5 4 3 2\n",
    "```\n",
    "__Hint__: Believe it or not, mutiple assignment is possible. In the following code, two values of `x` and `y` are swapped.\n",
    "```\n",
    "x, y = 1, 2      # x = 1, y = 2\n",
    "x, y = y, x      # x = 2, y = 1\n",
    "```"
   ]
  },
  {
   "cell_type": "code",
   "execution_count": null,
   "metadata": {},
   "outputs": [],
   "source": [
    "a = [0, 9, 4, 5, 2, 3]\n",
    "for i in None:\n",
    "    None\n",
    "    "
   ]
  },
  {
   "cell_type": "code",
   "execution_count": null,
   "metadata": {},
   "outputs": [],
   "source": [
    "a = []\n",
    "for i in range(int(input())):\n",
    "    a.append(int(input()))\n",
    "    "
   ]
  },
  {
   "cell_type": "markdown",
   "metadata": {},
   "source": [
    "### 2. The largest element and its index\n",
    "\n",
    "Get a list of integers from user, print the value of the largest element and then the index number. If the highest element is not unique, print the index of the first instance.\n",
    "\n",
    "__Hint__: You can solve this problem without using a loop if you use a method available for the list object as well as built-in functions in Python. "
   ]
  },
  {
   "cell_type": "code",
   "execution_count": null,
   "metadata": {},
   "outputs": [],
   "source": [
    "a = []\n",
    "for i in range(int(input())):\n",
    "    a.append(int(input()))\n",
    "   "
   ]
  },
  {
   "cell_type": "code",
   "execution_count": null,
   "metadata": {},
   "outputs": [],
   "source": [
    "a = [6, 9, 6, 23, 12, 19, 14, 26]\n",
    "print(None, None)"
   ]
  },
  {
   "cell_type": "markdown",
   "metadata": {},
   "source": [
    "### 3. Unique elements\n",
    "\n",
    "Given a list of integers, create a new list with the elements that appear in the original list only once. The elements must be listed in the order in which they occur in the original list. Don't use set. \n",
    "For example:\n",
    "```\n",
    "a = [4, 3, 5, 2, 5, 1, 3, 5]\n",
    "4 2 1\n",
    "```\n",
    "```\n",
    "a = [6, 9, 6, 23, 12, 19, 14, 26]\n",
    "9 23 12 19 14 26\n",
    "```\n",
    "Hint: Use a method available for a list object. Remember that `obejct`.<tab> displays a list of methods for the `object`."
   ]
  },
  {
   "cell_type": "code",
   "execution_count": null,
   "metadata": {},
   "outputs": [],
   "source": [
    "a = [4, 3, 5, 2, 5, 1, 3, 5]\n",
    "a = [6, 9, 6, 23, 12, 19, 14, 26]\n",
    "b = []\n",
    "for e in a:\n",
    "    None;\n",
    "print(b)"
   ]
  },
  {
   "cell_type": "markdown",
   "metadata": {},
   "source": [
    "## 4. Grades\n",
    "Given a list of grades, count how many are above the average.\n",
    "1. Get average\n",
    "2. Find how many grades are above avg using for lopp, not using list comprehension"
   ]
  },
  {
   "cell_type": "code",
   "execution_count": null,
   "metadata": {},
   "outputs": [],
   "source": [
    "grades = [88,67,45,67,76,78,53,87,12,100,77,89,92,53,95,99,76,87,56,45,98,87,89]\n",
    "\n",
    "avg = 0         # your code here\n",
    "above = 0\n",
    "\n",
    "# your code here\n",
    "        \n",
    "print(above, \"grades are above the average\", avg)"
   ]
  },
  {
   "cell_type": "markdown",
   "metadata": {},
   "source": [
    "# Lec05 ControlFlow "
   ]
  },
  {
   "cell_type": "markdown",
   "metadata": {},
   "source": [
    "### 1. The count and sum of the sequence\n",
    "Count the number of input elements and determine the sum of all elements in the sequence. The user's input sequence ends with the number 0. Get the input data using input() and print the result using print().\n",
    "Some sample runs:\n",
    "```\n",
    "1\n",
    "7\n",
    "9\n",
    "0\n",
    "3 17\n",
    "```\n",
    "```\n",
    "1\n",
    "1\n",
    "1\n",
    "1\n",
    "1\n",
    "0\n",
    "5 5\n",
    "```\n",
    "```\n",
    "123\n",
    "0\n",
    "1 123\n",
    "```"
   ]
  },
  {
   "cell_type": "code",
   "execution_count": null,
   "metadata": {},
   "outputs": [],
   "source": []
  },
  {
   "cell_type": "markdown",
   "metadata": {},
   "source": [
    "### 2. The second largest\n",
    "The sequence consists of _distinct positive integer numbers_ and ends with the number 0. Determine the value of the second largest element in this sequence. It is guaranteed that the sequence has at least two elements. Get the input data using input() and print the result using print(). \n",
    "\n",
    "Some sample runs:\n",
    "```\n",
    "1\n",
    "7\n",
    "9\n",
    "5\n",
    "0\n",
    "7\n",
    "```\n",
    "```\n",
    "7\n",
    "1\n",
    "8\n",
    "3\n",
    "0\n",
    "7\n",
    "```\n",
    "```\n",
    "9\n",
    "1\n",
    "2\n",
    "3\n",
    "7\n",
    "5\n",
    "0\n",
    "7\n",
    "```"
   ]
  },
  {
   "cell_type": "code",
   "execution_count": null,
   "metadata": {},
   "outputs": [],
   "source": []
  },
  {
   "cell_type": "markdown",
   "metadata": {},
   "source": [
    "### 3. The second largest in a list\n",
    "The list consists of _distinct positive integer numbers_. Find the value of the second largest element in the list. It is guaranteed that the sequence has at least two elements. \n",
    "\n",
    "Some sample runs:\n",
    "```\n",
    "a = [1, 2, 3, 4]\n",
    "# your code here\n",
    "2\n",
    "```\n",
    "```\n",
    "a = [4, 5, 3, 1, 2]\n",
    "# your code here\n",
    "4\n",
    "```\n",
    "```\n",
    "a = [10, 5, 7, 1, 9]\n",
    "# your code here\n",
    "9\n",
    "```\n",
    "```\n",
    "a = [2, 5, 7, 8, 9]\n",
    "# your code here\n",
    "7\n",
    "```"
   ]
  },
  {
   "cell_type": "code",
   "execution_count": null,
   "metadata": {},
   "outputs": [],
   "source": []
  },
  {
   "cell_type": "markdown",
   "metadata": {},
   "source": [
    "### 4. The maximum number of consecutive equal elements\n",
    "\n",
    "Given a sequence of integer numbers ending with the number 0. Determine the length of the widest fragment where all the elements are equal to each other. Get the input data using input() and print the result using print().\n",
    "\n",
    "__Some sample runs:__\n",
    "```\n",
    "1\n",
    "7\n",
    "7\n",
    "9\n",
    "1\n",
    "0\n",
    "2\n",
    "```\n",
    "```\n",
    "1\n",
    "2\n",
    "3\n",
    "10\n",
    "11\n",
    "0\n",
    "1\n",
    "```\n",
    "```\n",
    "3\n",
    "3\n",
    "3\n",
    "3\n",
    "0\n",
    "4\n",
    "```\n",
    "```\n",
    "1\n",
    "1\n",
    "2\n",
    "2\n",
    "2\n",
    "3\n",
    "3\n",
    "0\n",
    "2\n",
    "```"
   ]
  },
  {
   "cell_type": "code",
   "execution_count": null,
   "metadata": {},
   "outputs": [],
   "source": []
  },
  {
   "cell_type": "markdown",
   "metadata": {},
   "source": [
    "### 5. The maximum number of consecutive equal elements in a list\n",
    "\n",
    "Given a sequence of integer numbers in a list, determine the length of the widest fragment where all the elements are equal to each other. \n",
    "\n",
    "__Some sample runs:__\n",
    "```\n",
    "a = [1, 7, 7, 9, 1]\n",
    "# your code here\n",
    "2\n",
    "```\n",
    "```\n",
    "a = [1, 2, 3, 10, 11]\n",
    "# your code here\n",
    "1\n",
    "```\n",
    "```\n",
    "a = [3, 3, 3, 3]\n",
    "# your code here\n",
    "4\n",
    "```\n",
    "```\n",
    "a = [1, 1, 2, 2, 2, 3, 3]\n",
    "# your code here\n",
    "2\n",
    "```"
   ]
  },
  {
   "cell_type": "code",
   "execution_count": null,
   "metadata": {},
   "outputs": [],
   "source": []
  },
  {
   "cell_type": "markdown",
   "metadata": {},
   "source": [
    "### 6. Black Jack (version 3)\n",
    "\n",
    "Enhance the black jack game such that an ace card (or 1) can be considered either 1 or 10 for the player. For example, if a player gets 5, 1, and 6, his score becomes 21. If a player gets 10, 7, and 1, his score becomes 18.\n"
   ]
  },
  {
   "cell_type": "code",
   "execution_count": null,
   "metadata": {},
   "outputs": [],
   "source": []
  }
 ],
 "metadata": {
  "kernelspec": {
   "display_name": "Python 3",
   "language": "python",
   "name": "python3"
  },
  "language_info": {
   "codemirror_mode": {
    "name": "ipython",
    "version": 3
   },
   "file_extension": ".py",
   "mimetype": "text/x-python",
   "name": "python",
   "nbconvert_exporter": "python",
   "pygments_lexer": "ipython3",
   "version": "3.7.1"
  }
 },
 "nbformat": 4,
 "nbformat_minor": 2
}
