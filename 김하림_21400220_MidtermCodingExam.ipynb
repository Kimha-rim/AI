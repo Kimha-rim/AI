{
 "cells": [
  {
   "cell_type": "markdown",
   "metadata": {},
   "source": [
    "# Take-home Coding Midterm\n",
    "\n",
    "#### Honor Code\n",
    "Include the following line at the top of your every source file with your name signed.\n",
    "On my honor, I pledge that I have neither received nor provided improper assistance in the completion of this assignment. \n",
    "\n",
    "`Name Signed: Kim ha rim      Student Number: 21400220`\n",
    "\n",
    "\n",
    "__Due__: This part of exam should be uploaded in Piazza midterm folder __before__ in-class midterm. \n",
    "\n",
    "__Points__: \n",
    "\n",
    "1. Points for take-home coding midterm: 50 points\n",
    "    - Lec01: 6 * 1 = 6\n",
    "    - Lec02: 5 * 1 = 5\n",
    "    - Lec03: 3 * 1 = 3\n",
    "    - Lec04: 4 * 1 = 4\n",
    "    - Lec05: 6 * 2 = 12\n",
    "    - py4e: 20 (upload a screen capture showing your achievement.)\n",
    "2. Points for in-class midterm: 50 points \n",
    "    - questions from video lectures and in-class materials: 40\n",
    "    - one coding question about using list(refer to py4e.): 10   "
   ]
  },
  {
   "cell_type": "markdown",
   "metadata": {},
   "source": [
    "# Lec01 DataTypes "
   ]
  },
  {
   "cell_type": "markdown",
   "metadata": {},
   "source": [
    "### 1. Given an integer number, print its last digit."
   ]
  },
  {
   "cell_type": "code",
   "execution_count": null,
   "metadata": {},
   "outputs": [],
   "source": [
    "# Read an integer:\n",
    "a = int(input())\n",
    "b = a%10\n",
    "print(b)\n",
    "# print the last digit of a which is an integer.\n",
    "# for example, print 5 if 35, 6 if 6, 9 if 5679. "
   ]
  },
  {
   "cell_type": "code",
   "execution_count": 12,
   "metadata": {},
   "outputs": [
    {
     "name": "stdout",
     "output_type": "stream",
     "text": [
      "5 if 35\n",
      "6 if 6\n",
      "9 if 5679\n"
     ]
    }
   ],
   "source": [
    "a = 35\n",
    "b = a%10\n",
    "c = str(a)\n",
    "d = str(b)\n",
    "print(d + ' if ' + c)\n",
    "a = 6\n",
    "b = a%10\n",
    "c = str(a)\n",
    "d = str(b)\n",
    "print(d + ' if ' + c)\n",
    "a = 5679\n",
    "b = a%10\n",
    "c = str(a)\n",
    "d = str(b)\n",
    "print(d + ' if ' + c)\n",
    "# for example, print 5 if 35, 6 if 6, 9 if 5679. "
   ]
  },
  {
   "cell_type": "markdown",
   "metadata": {},
   "source": [
    "### 2. Given a three-digit number. Find the sum of its digits."
   ]
  },
  {
   "cell_type": "code",
   "execution_count": null,
   "metadata": {},
   "outputs": [],
   "source": [
    "##### Read an integer:\n",
    "a = int(input())\n",
    "b=a//100\n",
    "c=a%100//10\n",
    "d=a%100%10//1\n",
    "e=int(b+c+d)\n",
    "print(e)\n",
    "# for example, print 6 if a is 123, 18 if a is 369.\n",
    "# assume that a is a three digit number."
   ]
  },
  {
   "cell_type": "code",
   "execution_count": 3,
   "metadata": {},
   "outputs": [
    {
     "name": "stdout",
     "output_type": "stream",
     "text": [
      "6 if a is 123\n",
      "18 if a is 369\n"
     ]
    }
   ],
   "source": [
    "a = int(123)\n",
    "b=a//100\n",
    "c=a%100//10\n",
    "d=a%100%10//1\n",
    "e=int(b+c+d)\n",
    "f = str(a)\n",
    "g = str(e)\n",
    "print(g + ' if a is ' + f)\n",
    "a = int(369)\n",
    "b=a//100\n",
    "c=a%100//10\n",
    "d=a%100%10//1\n",
    "e=int(b+c+d)\n",
    "f = str(a)\n",
    "g = str(e)\n",
    "print(g + ' if a is ' + f)\n",
    "# for example, print 6 if a is 123, 18 if a is 369.\n",
    "# assume that a is a three digit number."
   ]
  },
  {
   "cell_type": "code",
   "execution_count": null,
   "metadata": {},
   "outputs": [],
   "source": [
    "##### Read an integer:\n",
    "a = str(input())\n",
    "b = [int(i) for i in a]\n",
    "sum(b)\n",
    "# for example, print 6 if a is 123, 18 if a is 369. "
   ]
  },
  {
   "cell_type": "code",
   "execution_count": 6,
   "metadata": {},
   "outputs": [
    {
     "name": "stdout",
     "output_type": "stream",
     "text": [
      "6 if a is 123\n",
      "18 if a is 369\n"
     ]
    }
   ],
   "source": [
    "a = str(123)\n",
    "b = [int(i) for i in a]\n",
    "c = str(sum(b))\n",
    "print(c + ' if a is ' + a)\n",
    "a = str(369)\n",
    "b = [int(i) for i in a]\n",
    "c = str(sum(b))\n",
    "print(c + ' if a is ' + a)\n",
    "# for example, print 6 if a is 123, 18 if a is 369. "
   ]
  },
  {
   "cell_type": "markdown",
   "metadata": {},
   "source": [
    "### 3. Clock displays military time\n",
    "\n",
    "The integer N given is the number of minutes that is passed since midnight. Display the hour and minute in military time. The program should print two numbers: the number of hours (between 0 and 23) and the number of minutes (between 0 and 59). For example, if N = 150, then 150 minutes have passed since midnight - i.e. now is 2:30 am. So the program should print 2:30."
   ]
  },
  {
   "cell_type": "code",
   "execution_count": null,
   "metadata": {},
   "outputs": [],
   "source": [
    "# Read an integer:\n",
    "a = int(input())\n",
    "b = a//1440\n",
    "c = a//60\n",
    "if (c) > 24:\n",
    "           c=c%24\n",
    "else:\n",
    "           c=c\n",
    "d = a%60\n",
    "e = str(a) \n",
    "f = str(b)\n",
    "g = str(c)\n",
    "h = str(d)\n",
    "if b == 0:\n",
    "    print(g + ':' + h + ' for ' + e)\n",
    "if b <= -2 or b >= 2:\n",
    "    print(f + 'days ' + g + ':' + h + ' for ' + e)\n",
    "if b == -1 or b == 1:\n",
    "    print(f + 'day ' + g + ':' + h + ' for ' + e)\n",
    "# print 3:0 for 180, 7:24 for 444, 18:31 for 1111, 23:59 for 1439 "
   ]
  },
  {
   "cell_type": "code",
   "execution_count": 10,
   "metadata": {},
   "outputs": [
    {
     "name": "stdout",
     "output_type": "stream",
     "text": [
      "3:0 for 180\n",
      "7:24 for 444\n",
      "18:31 for 1111\n",
      "23:59 for 1439\n"
     ]
    }
   ],
   "source": [
    "a = int(180)\n",
    "b = a//1440\n",
    "c = a//60\n",
    "if (c) > 24:\n",
    "           c=c%24\n",
    "else:\n",
    "           c=c\n",
    "d = a%60\n",
    "e = str(a) \n",
    "f = str(b)\n",
    "g = str(c)\n",
    "h = str(d)\n",
    "if b == 0:\n",
    "    print(g + ':' + h + ' for ' + e)\n",
    "if b <= -2 or b >= 2:\n",
    "    print(f + 'days ' + g + ':' + h + ' for ' + e)\n",
    "if b == -1 or b == 1:\n",
    "    print(f + 'day ' + g + ':' + h + ' for ' + e)\n",
    "a = int(444)\n",
    "b = a//1440\n",
    "c = a//60\n",
    "if (c) > 24:\n",
    "           c=c%24\n",
    "else:\n",
    "           c=c\n",
    "d = a%60\n",
    "e = str(a) \n",
    "f = str(b)\n",
    "g = str(c)\n",
    "h = str(d)\n",
    "if b == 0:\n",
    "    print(g + ':' + h + ' for ' + e)\n",
    "if b <= -2 or b >= 2:\n",
    "    print(f + 'days ' + g + ':' + h + ' for ' + e)\n",
    "if b == -1 or b == 1:\n",
    "    print(f + 'day ' + g + ':' + h + ' for ' + e)\n",
    "a = int(1111)\n",
    "b = a//1440\n",
    "c = a//60\n",
    "if (c) > 24:\n",
    "           c=c%24\n",
    "else:\n",
    "           c=c\n",
    "d = a%60\n",
    "e = str(a) \n",
    "f = str(b)\n",
    "g = str(c)\n",
    "h = str(d)\n",
    "if b == 0:\n",
    "    print(g + ':' + h + ' for ' + e)\n",
    "if b <= -2 or b >= 2:\n",
    "    print(f + 'days ' + g + ':' + h + ' for ' + e)\n",
    "if b == -1 or b == 1:\n",
    "    print(f + 'day ' + g + ':' + h + ' for ' + e)\n",
    "a = int(1439)\n",
    "b = a//1440\n",
    "c = a//60\n",
    "if (c) > 24:\n",
    "           c=c%24\n",
    "else:\n",
    "           c=c\n",
    "d = a%60\n",
    "e = str(a) \n",
    "f = str(b)\n",
    "g = str(c)\n",
    "h = str(d)\n",
    "if b == 0:\n",
    "    print(g + ':' + h + ' for ' + e)\n",
    "if b <= -2 or b >= 2:\n",
    "    print(f + 'days ' + g + ':' + h + ' for ' + e)\n",
    "if b == -1 or b == 1:\n",
    "    print(f + 'day ' + g + ':' + h + ' for ' + e)\n",
    "# print 3:0 for 180, 7:24 for 444, 18:31 for 1111, 23:59 for 1439 "
   ]
  },
  {
   "cell_type": "markdown",
   "metadata": {},
   "source": [
    "### 4. Separate integer part and decimal part\n",
    "\n",
    "Given a positive real number with a decmal point, print its integer part and decimal part. Use some arithmatic operators, not str().\n",
    "\n",
    "For example:\n",
    "```\n",
    "123.456\n",
    "123\n",
    "456\n",
    "```\n",
    "```\n",
    "0.1234\n",
    "0\n",
    "1234\n",
    "```"
   ]
  },
  {
   "cell_type": "code",
   "execution_count": 30,
   "metadata": {},
   "outputs": [
    {
     "name": "stdout",
     "output_type": "stream",
     "text": [
      "123.45678\n",
      "123.45678\n",
      "123\n",
      "45678\n"
     ]
    }
   ],
   "source": [
    "# Read a real number:\n",
    "x = input()\n",
    "y = x[::-1].find('.')\n",
    "a = float(x)\n",
    "b = a//1\n",
    "c = a - b\n",
    "d = round(c,y) *(10** y)\n",
    "print(x)\n",
    "print(int(b))\n",
    "print(int(d))"
   ]
  },
  {
   "cell_type": "code",
   "execution_count": 25,
   "metadata": {},
   "outputs": [
    {
     "name": "stdout",
     "output_type": "stream",
     "text": [
      "123.456\n",
      "123\n",
      "456\n",
      "\n",
      "0.1234\n",
      "0\n",
      "1234\n"
     ]
    }
   ],
   "source": [
    "x = '123.456'\n",
    "y = x[::-1].find('.')\n",
    "a = float(x)\n",
    "b = a//1\n",
    "c = a - b\n",
    "d = round(c,y) *(10** y)\n",
    "print(x)\n",
    "print(int(b))\n",
    "print(int(d))\n",
    "print()\n",
    "x = '0.1234'\n",
    "y = x[::-1].find('.')\n",
    "a = float(x)\n",
    "b = a//1\n",
    "c = a - b\n",
    "d = round(c,y) *(10** y)\n",
    "print(x)\n",
    "print(int(b))\n",
    "print(int(d))"
   ]
  },
  {
   "cell_type": "markdown",
   "metadata": {},
   "source": [
    "### 5. Separate integer part and decimal part\n",
    "\n",
    "Given a positive real number with a decmal point, print its integer part and decimal part. Use str() and slicing, but not arithmatic operators.\n",
    "\n",
    "For example:\n",
    "```\n",
    "123.456\n",
    "123\n",
    "456\n",
    "```\n",
    "```\n",
    "0.1234\n",
    "0\n",
    "1234\n",
    "```"
   ]
  },
  {
   "cell_type": "code",
   "execution_count": 2,
   "metadata": {},
   "outputs": [
    {
     "name": "stdout",
     "output_type": "stream",
     "text": [
      "123.456\n",
      "123.456\n",
      "123\n",
      "456\n"
     ]
    }
   ],
   "source": [
    "# Read a real number:\n",
    "x = str(input())\n",
    "y = x.find('.')\n",
    "print(x)\n",
    "print(x[:y:1])\n",
    "print(x[y+1::1])"
   ]
  },
  {
   "cell_type": "code",
   "execution_count": 4,
   "metadata": {},
   "outputs": [
    {
     "name": "stdout",
     "output_type": "stream",
     "text": [
      "123.456\n",
      "123\n",
      "456\n",
      "\n",
      "0.1234\n",
      "0\n",
      "1234\n"
     ]
    }
   ],
   "source": [
    "x = str(123.456)\n",
    "y = x.find('.')\n",
    "print(x)\n",
    "print(x[:y:1])\n",
    "print(x[y+1::1])\n",
    "print()\n",
    "x = str(0.1234)\n",
    "y = x.find('.')\n",
    "print(x)\n",
    "print(x[:y:1])\n",
    "print(x[y+1::1])"
   ]
  },
  {
   "cell_type": "markdown",
   "metadata": {},
   "source": [
    "### 6. Equal numbers\n",
    "\n",
    "Given three integers, determine how many of them are equal to each other. The program must print one of these numbers: 3 (if all are the same), 2 (if two of them are equal to each other and the third is different) or 0 (if all numbers are different)."
   ]
  },
  {
   "cell_type": "code",
   "execution_count": 62,
   "metadata": {},
   "outputs": [
    {
     "name": "stdout",
     "output_type": "stream",
     "text": [
      "x:1\n",
      "y:2\n",
      "z:3\n",
      "0\n"
     ]
    }
   ],
   "source": [
    "# Read an integer:\n",
    "x = int(input(\"x:\"))\n",
    "y = int(input(\"y:\"))\n",
    "z = int(input(\"z:\"))\n",
    "if x == y == z :\n",
    "    print('3')\n",
    "    a = 3\n",
    "else:\n",
    "    a = 10\n",
    "if a == 10 and x == y != z or x != y == z or x == z != y :\n",
    "    print('2')\n",
    "    a = 2\n",
    "if x != y != z :\n",
    "    print('0')"
   ]
  },
  {
   "cell_type": "markdown",
   "metadata": {},
   "source": [
    "# Lec02 Strings \n",
    "\n",
    "### 1. To swap the two words\n",
    "\n",
    "Given a string consisting of exactly two words separated by a space. Print a new string with the first and second word positions swapped (the second word is printed first).\n",
    "This task should not use `loop`s and `if`. You may use `find()` and slicing.\n",
    "\n",
    "For example:\n",
    "```\n",
    "Hello, World!       World! Hello,\n",
    "H D                 D H\n",
    "Sola Gratia!        Gratia! Sola\n",
    "race car            car race\n",
    "```"
   ]
  },
  {
   "cell_type": "code",
   "execution_count": null,
   "metadata": {},
   "outputs": [],
   "source": [
    "s = input()\n",
    "x = s.find(' ')\n",
    "a = s[:x]\n",
    "b = s[x+1:]\n",
    "print(b,a) "
   ]
  },
  {
   "cell_type": "code",
   "execution_count": 80,
   "metadata": {},
   "outputs": [
    {
     "name": "stdout",
     "output_type": "stream",
     "text": [
      "Hello, World!       World! Hello,\n",
      "H D                 D H\n",
      "Sola Gratia!        Gratia! Sola\n",
      "race car            car race\n"
     ]
    }
   ],
   "source": [
    "s = 'Hello, World!'\n",
    "x = s.find(' ')\n",
    "a = s[:x]\n",
    "b = s[x+1:]\n",
    "print(s + '       ' + b,a)\n",
    "s = 'H D'\n",
    "x = s.find(' ')\n",
    "a = s[:x]\n",
    "b = s[x+1:]\n",
    "print(s + '                 ' + b,a)\n",
    "s = 'Sola Gratia!'\n",
    "x = s.find(' ')\n",
    "a = s[:x]\n",
    "b = s[x+1:]\n",
    "print(s + '        ' + b,a)\n",
    "s = 'race car'\n",
    "x = s.find(' ')\n",
    "a = s[:x]\n",
    "b = s[x+1:]\n",
    "print(s + '            ' + b,a)"
   ]
  },
  {
   "cell_type": "markdown",
   "metadata": {},
   "source": [
    "### 2. The first and last occurrence\n",
    "\n",
    "Given a string that may or may not contain a letter of interest. Print the index location of the first and last appearance of `f`. If the letter `f` occurs only once, then output its index. If the letter f does not occur, then do not print anything.\n",
    "\n",
    "Don't use loops in this task.  You may use `find()` and `rfind()`.\n",
    "\n",
    "For example:\n",
    "- comfort 3\n",
    "- office  1 2\n",
    "- hello   \n",
    "- fide  0 \n",
    "- affffa  1 5 # It should be 1 4, not 1 5\n",
    "- ffff  0 3"
   ]
  },
  {
   "cell_type": "code",
   "execution_count": 35,
   "metadata": {},
   "outputs": [
    {
     "name": "stdout",
     "output_type": "stream",
     "text": [
      "hello\n",
      "hello\n"
     ]
    }
   ],
   "source": [
    "s = input()\n",
    "a = s.find('f')\n",
    "b = s.rfind('f')\n",
    "q = str(s.find('f'))\n",
    "w = str(s.rfind('f'))\n",
    "if a != -1 and b != -1 and a == b:\n",
    "    print(s, a)\n",
    "if a != -1 and b != -1 and a != b:\n",
    "        c = q, w\n",
    "        h = \" \".join(c)\n",
    "        print(s, h)\n",
    "if s.count('f') == 0:\n",
    "    print(s)"
   ]
  },
  {
   "cell_type": "code",
   "execution_count": 79,
   "metadata": {},
   "outputs": [
    {
     "name": "stdout",
     "output_type": "stream",
     "text": [
      "comfort 3\n",
      "office 1 2\n",
      "hello\n",
      "fide 0\n",
      "affffa 1 4\n",
      "ffff 0 3\n"
     ]
    }
   ],
   "source": [
    "s = 'comfort'\n",
    "a = s.find('f')\n",
    "b = s.rfind('f')\n",
    "q = str(s.find('f'))\n",
    "w = str(s.rfind('f'))\n",
    "if a != -1 and b != -1 and a == b:\n",
    "    print(s, a)\n",
    "if a != -1 and b != -1 and a != b:\n",
    "        c = q, w\n",
    "        h = \" \".join(c)\n",
    "        print(s, h)\n",
    "if s.count('f') == 0:\n",
    "    print(s)\n",
    "s = 'office'\n",
    "a = s.find('f')\n",
    "b = s.rfind('f')\n",
    "q = str(s.find('f'))\n",
    "w = str(s.rfind('f'))\n",
    "if a != -1 and b != -1 and a == b:\n",
    "    print(s, a)\n",
    "if a != -1 and b != -1 and a != b:\n",
    "        c = q, w\n",
    "        h = \" \".join(c)\n",
    "        print(s, h)\n",
    "if s.count('f') == 0:\n",
    "    print(s)\n",
    "s = 'hello'\n",
    "a = s.find('f')\n",
    "b = s.rfind('f')\n",
    "q = str(s.find('f'))\n",
    "w = str(s.rfind('f'))\n",
    "if a != -1 and b != -1 and a == b:\n",
    "    print(s, a)\n",
    "if a != -1 and b != -1 and a != b:\n",
    "        c = q, w\n",
    "        h = \" \".join(c)\n",
    "        print(s, h)\n",
    "if s.count('f') == 0:\n",
    "    print(s)\n",
    "s = 'fide'\n",
    "a = s.find('f')\n",
    "b = s.rfind('f')\n",
    "q = str(s.find('f'))\n",
    "w = str(s.rfind('f'))\n",
    "if a != -1 and b != -1 and a == b:\n",
    "    print(s, a)\n",
    "if a != -1 and b != -1 and a != b:\n",
    "        c = q, w\n",
    "        h = \" \".join(c)\n",
    "        print(s, h)\n",
    "if s.count('f') == 0:\n",
    "    print(s)\n",
    "s = 'affffa'\n",
    "a = s.find('f')\n",
    "b = s.rfind('f')\n",
    "q = str(s.find('f'))\n",
    "w = str(s.rfind('f'))\n",
    "if a != -1 and b != -1 and a == b:\n",
    "    print(s, a)\n",
    "if a != -1 and b != -1 and a != b:\n",
    "        c = q, w\n",
    "        h = \" \".join(c)\n",
    "        print(s, h)\n",
    "if s.count('f') == 0:\n",
    "    print(s)\n",
    "s = 'ffff'\n",
    "a = s.find('f')\n",
    "b = s.rfind('f')\n",
    "q = str(s.find('f'))\n",
    "w = str(s.rfind('f'))\n",
    "if a != -1 and b != -1 and a == b:\n",
    "    print(s, a)\n",
    "if a != -1 and b != -1 and a != b:\n",
    "        c = q, w\n",
    "        h = \" \".join(c)\n",
    "        print(s, h)\n",
    "if s.count('f') == 0:\n",
    "    print(s)"
   ]
  },
  {
   "cell_type": "markdown",
   "metadata": {},
   "source": [
    "### 3. Replace the substring\n",
    "\n",
    "Given a string. Replace in this string all the numbers 1 by the word one.\n",
    "\n",
    "For example:\n",
    "```\n",
    "1 + 1 = 2   -->   one + one = two\n",
    "11111 --> oneoneoneoneone\n",
    "Jesus Alone --> Jesus Alone\n",
    "```"
   ]
  },
  {
   "cell_type": "code",
   "execution_count": null,
   "metadata": {},
   "outputs": [],
   "source": [
    "s = str(input())\n",
    "a =  s.replace('1', 'one')\n",
    "b = a.replace('2', 'two')\n",
    "print(b)"
   ]
  },
  {
   "cell_type": "code",
   "execution_count": 4,
   "metadata": {},
   "outputs": [
    {
     "name": "stdout",
     "output_type": "stream",
     "text": [
      "1 + 1 = 2  -->  one + one = two\n",
      "11111 --> oneoneoneoneone\n",
      "Jesus Alone --> Jesus Alone\n"
     ]
    }
   ],
   "source": [
    "s = '1 + 1 = 2'\n",
    "a =  s.replace('1', 'one')\n",
    "b = a.replace('2', 'two')\n",
    "print(s + '  -->  ' + b)\n",
    "s = '11111'\n",
    "a =  s.replace('1', 'one')\n",
    "b = a.replace('2', 'two')\n",
    "print(s + ' --> ' + b)\n",
    "s = 'Jesus Alone'\n",
    "a =  s.replace('1', 'one')\n",
    "b = a.replace('2', 'two')\n",
    "print(s + ' --> ' + b)"
   ]
  },
  {
   "cell_type": "markdown",
   "metadata": {},
   "source": [
    "### 4. Delete a character\n",
    "Given a string, remove all occurrences of the dot(.) character.\n",
    "For example:\n",
    "```\n",
    "Mr. Kim  --> Mr Kim\n",
    "My love...  --> My love\n",
    "....   -->\n",
    "This .. is removed. --> This is removed\n",
    "```"
   ]
  },
  {
   "cell_type": "code",
   "execution_count": null,
   "metadata": {},
   "outputs": [],
   "source": [
    "# your code here\n",
    "x = str(input())\n",
    "a = x.replace('.','')\n",
    "print(a)"
   ]
  },
  {
   "cell_type": "code",
   "execution_count": 77,
   "metadata": {},
   "outputs": [
    {
     "name": "stdout",
     "output_type": "stream",
     "text": [
      "Mr. Kim  --> Mr Kim\n",
      "My love...  --> My love\n",
      "....   -->  \n",
      "This .. is removed.  --> This  is removed\n"
     ]
    }
   ],
   "source": [
    "x = 'Mr. Kim'\n",
    "a = x.replace('.','')\n",
    "print(x + '  --> ' + a)\n",
    "x = 'My love...'\n",
    "a = x.replace('.','')\n",
    "print(x + '  --> ' + a)\n",
    "x = '.... '\n",
    "a = x.replace('.','')\n",
    "print(x + '  --> ' + a)\n",
    "x = 'This .. is removed.'\n",
    "a = x.replace('.','')\n",
    "print(x + '  --> ' + a)"
   ]
  },
  {
   "cell_type": "markdown",
   "metadata": {},
   "source": [
    "### 5. Remove between\n",
    "\n",
    "Given a string in which the letter `g` occurs at least twice. Remove from that string the first and the last occurrence of the letter `g`, as well as all the characters between them.\n",
    "\n",
    "For example,\n",
    "\n",
    "```\n",
    "In all things God works for the good of those who love him.\n",
    "-> In all thinood of those who love him.\n",
    "\n",
    "The good man brings good things out of the good stored up in his heart.\n",
    "-> The good stored up in this heart\n",
    "# It should be 'The ood stored up in his heart.', not 'The good stored up in this heart\n",
    "\n",
    "my garbage in garbage out -> my e out\n",
    "\n",
    "google -> le\n",
    "\n",
    "garage -> e\n",
    "\n",
    "gag ->\n",
    "```"
   ]
  },
  {
   "cell_type": "code",
   "execution_count": null,
   "metadata": {},
   "outputs": [],
   "source": [
    "s = input()\n",
    "x = s.find('g')\n",
    "y = s.rfind('g')\n",
    "z = s[:x] + s[y+1:]\n",
    "print(z)"
   ]
  },
  {
   "cell_type": "code",
   "execution_count": 76,
   "metadata": {},
   "outputs": [
    {
     "name": "stdout",
     "output_type": "stream",
     "text": [
      "In all things God works for the good of those who love him.\n",
      "-> In all thinood of those who love him.\n",
      "\n",
      "The good man brings good things out of the good stored up in his heart.\n",
      "-> The ood stored up in his heart.\n",
      "\n",
      "my garbage in garbage out -> my e out\n",
      "\n",
      "google -> le\n",
      "\n",
      "garage -> e\n",
      "\n",
      "gag -> \n"
     ]
    }
   ],
   "source": [
    "s = 'In all things God works for the good of those who love him.'\n",
    "x = s.find('g')\n",
    "y = s.rfind('g')\n",
    "z = s[:x] + s[y+1:]\n",
    "print(s)\n",
    "print('-> ' + z)\n",
    "print()\n",
    "s = 'The good man brings good things out of the good stored up in his heart.'\n",
    "x = s.find('g')\n",
    "y = s.rfind('g')\n",
    "z = s[:x] + s[y+1:]\n",
    "print(s)\n",
    "print('-> ' + z)\n",
    "print()\n",
    "s = 'my garbage in garbage out'\n",
    "x = s.find('g')\n",
    "y = s.rfind('g')\n",
    "z = s[:x] + s[y+1:]\n",
    "print(s + ' -> ' + z)\n",
    "print()\n",
    "s = 'google'\n",
    "x = s.find('g')\n",
    "y = s.rfind('g')\n",
    "z = s[:x] + s[y+1:]\n",
    "print(s + ' -> ' + z)\n",
    "print()\n",
    "s = 'garage'\n",
    "x = s.find('g')\n",
    "y = s.rfind('g')\n",
    "z = s[:x] + s[y+1:]\n",
    "print(s + ' -> ' + z)\n",
    "print()\n",
    "s = 'gag'\n",
    "x = s.find('g')\n",
    "y = s.rfind('g')\n",
    "z = s[:x] + s[y+1:]\n",
    "print(s + ' -> ' + z)"
   ]
  },
  {
   "cell_type": "markdown",
   "metadata": {},
   "source": [
    "# Lec03 ForWithRange \n",
    "\n",
    "### 1. Count to N\n",
    "\n",
    "Given an integer N, print all the numbers from 1 to N twice as shown below.\n",
    "```\n",
    "N = 5\n",
    "1\n",
    "2\n",
    "3\n",
    "4\n",
    "5\n",
    "1 2 3 4 5\n",
    "```"
   ]
  },
  {
   "cell_type": "code",
   "execution_count": 75,
   "metadata": {},
   "outputs": [
    {
     "name": "stdout",
     "output_type": "stream",
     "text": [
      "5\n",
      "N = 5\n",
      "1\n",
      "2\n",
      "3\n",
      "4\n",
      "5\n",
      "1 2 3 4 5 "
     ]
    }
   ],
   "source": [
    "N = int(input())\n",
    "print('N =', N)\n",
    "for i in range(1,N+1,1):\n",
    "    print(i)\n",
    "for i in range(1,N+1,1):\n",
    "    print(i, end=' ')"
   ]
  },
  {
   "cell_type": "code",
   "execution_count": 74,
   "metadata": {},
   "outputs": [
    {
     "name": "stdout",
     "output_type": "stream",
     "text": [
      "N = 5\n",
      "1\n",
      "2\n",
      "3\n",
      "4\n",
      "5\n",
      "1 2 3 4 5 "
     ]
    }
   ],
   "source": [
    "N = 5\n",
    "print('N =', N)\n",
    "for i in range(1,N+1,1):\n",
    "    print(i)\n",
    "for i in range(1,N+1,1):\n",
    "    print(i, end=' ')"
   ]
  },
  {
   "cell_type": "markdown",
   "metadata": {},
   "source": [
    "### 2. Given an integer N, print all the odd numbers from 1 to N.\n",
    "\n",
    "Given an integer N, print all the odd numbers from 1 to N in ascending order."
   ]
  },
  {
   "cell_type": "markdown",
   "metadata": {},
   "source": [
    "1 2 3 4 5"
   ]
  },
  {
   "cell_type": "code",
   "execution_count": 72,
   "metadata": {},
   "outputs": [
    {
     "name": "stdout",
     "output_type": "stream",
     "text": [
      "5\n",
      "1 2 3 4 5 "
     ]
    }
   ],
   "source": [
    "N = int(input())\n",
    "for i in range(1,N+1,1):\n",
    "    print(i, end=' ')"
   ]
  },
  {
   "cell_type": "markdown",
   "metadata": {},
   "source": [
    "### 3. Ladder \n",
    "\n",
    "For given integer n ≤ 9 print a ladder of n steps. The k-th step consists of the integers from 1 to k without spaces between them.\n",
    "To do that, you can use the sep and end arguments for the function print().\n",
    "\n",
    "```\n",
    "n = 5\t\n",
    "1\n",
    "12\n",
    "123\n",
    "1234\n",
    "12345\n",
    "\n",
    "n = 3\n",
    "1\n",
    "12\n",
    "123\n",
    "```"
   ]
  },
  {
   "cell_type": "code",
   "execution_count": 70,
   "metadata": {},
   "outputs": [
    {
     "name": "stdout",
     "output_type": "stream",
     "text": [
      "3\n",
      "n = 3\n",
      "1\n",
      "12\n",
      "123\n"
     ]
    }
   ],
   "source": [
    "n = int(input())\n",
    "ladder = list ()\n",
    "print('n =', n)\n",
    "if n <= 9:\n",
    "    for i in range(1,n+1,1):\n",
    "        i\n",
    "        for b in range(1,i+1,1):\n",
    "            ladder.append(b)\n",
    "        ladderx = str(ladder)\n",
    "        rx = ladderx.rfind('1')\n",
    "        ry = ladderx.rfind(']')\n",
    "        y = ladderx[rx:ry:3]\n",
    "        print(y)\n",
    "else:\n",
    "    print('ERROR : Given integar n ≤ 9 print a ladder of n steps.')"
   ]
  },
  {
   "cell_type": "code",
   "execution_count": 71,
   "metadata": {},
   "outputs": [
    {
     "name": "stdout",
     "output_type": "stream",
     "text": [
      "n = 5\n",
      "1\n",
      "12\n",
      "123\n",
      "1234\n",
      "12345\n",
      "\n",
      "n = 3\n",
      "1\n",
      "12\n",
      "123\n"
     ]
    }
   ],
   "source": [
    "n = 5\n",
    "ladder = list ()\n",
    "print('n =', n)\n",
    "if n <= 9:\n",
    "    for i in range(1,n+1,1):\n",
    "        i\n",
    "        for b in range(1,i+1,1):\n",
    "            ladder.append(b)\n",
    "        ladderx = str(ladder)\n",
    "        rx = ladderx.rfind('1')\n",
    "        ry = ladderx.rfind(']')\n",
    "        y = ladderx[rx:ry:3]\n",
    "        print(y)\n",
    "else:\n",
    "    print('ERROR : Given integar n ≤ 9 print a ladder of n steps.')\n",
    "print()\n",
    "n = 3\n",
    "ladder = list ()\n",
    "print('n =', n)\n",
    "if n <= 9:\n",
    "    for i in range(1,n+1,1):\n",
    "        i\n",
    "        for b in range(1,i+1,1):\n",
    "            ladder.append(b)\n",
    "        ladderx = str(ladder)\n",
    "        rx = ladderx.rfind('1')\n",
    "        ry = ladderx.rfind(']')\n",
    "        y = ladderx[rx:ry:3]\n",
    "        print(y)\n",
    "else:\n",
    "    print('ERROR : Given integar n ≤ 9 print a ladder of n steps.')"
   ]
  },
  {
   "cell_type": "markdown",
   "metadata": {},
   "source": [
    "# Lec04 Lists  "
   ]
  },
  {
   "cell_type": "markdown",
   "metadata": {},
   "source": [
    "### 1. Swap neighbours\n",
    "\n",
    "Given a list of numbers, swap adjacent items in pairs (`a[0]` with `a[1]`, `a[2]` with `a[3]`, etc.). Print the resulting list. If a list has an odd number of elements, leave the last element in place.\n",
    "\n",
    "For example:\n",
    "```\n",
    "a = [1, 2, 3]\n",
    "2 1 3\n",
    "```\n",
    "```\n",
    "a = [0, 9, 4, 5, 2, 3]\n",
    "9 0 5 4 3 2\n",
    "```\n",
    "__Hint__: Believe it or not, mutiple assignment is possible. In the following code, two values of `x` and `y` are swapped.\n",
    "```\n",
    "x, y = 1, 2      # x = 1, y = 2\n",
    "x, y = y, x      # x = 2, y = 1\n",
    "```"
   ]
  },
  {
   "cell_type": "code",
   "execution_count": 7,
   "metadata": {},
   "outputs": [
    {
     "name": "stdout",
     "output_type": "stream",
     "text": [
      "a = [1, 2, 3]\n",
      "2 1 3\n",
      "\n",
      "a = [0, 9, 4, 5, 2, 3]\n",
      "9 0 5 4 3 2\n"
     ]
    }
   ],
   "source": [
    "a = [1, 2, 3]\n",
    "print('a =',a)\n",
    "for c in range(0, len(a)-1,2):\n",
    "    a[c], a[c+1] = a[c+1], a[c]\n",
    "print(\" \".join([str(i) for i in a] ))\n",
    "print()\n",
    "a = [0, 9, 4, 5, 2, 3]\n",
    "print('a =',a)\n",
    "for c in range(0, len(a)-1,2):\n",
    "    a[c], a[c+1] = a[c+1], a[c]\n",
    "print(\" \".join([str(i) for i in a] ))"
   ]
  },
  {
   "cell_type": "code",
   "execution_count": null,
   "metadata": {},
   "outputs": [],
   "source": [
    "a = []\n",
    "while True:\n",
    "    n = input(\"Enter a number(Enter 'done' to break): \")\n",
    "    if n == \"done\":\n",
    "        break\n",
    "    try:\n",
    "        num = int(n)\n",
    "        a.append(num)\n",
    "    except:\n",
    "        print(\"Invalid input\")\n",
    "        continue\n",
    "    \n",
    "print('a =', a)\n",
    "for c in range(0, len(a)-1,2):\n",
    "    a[c], a[c+1] = a[c+1], a[c]\n",
    "print(\" \".join([str(i) for i in a] ))"
   ]
  },
  {
   "cell_type": "markdown",
   "metadata": {},
   "source": [
    "### 2. The largest element and its index\n",
    "\n",
    "Get a list of integers from user, print the value of the largest element and then the index number. If the highest element is not unique, print the index of the first instance.\n",
    "\n",
    "__Hint__: You can solve this problem without using a loop if you use a method available for the list object as well as built-in functions in Python. "
   ]
  },
  {
   "cell_type": "code",
   "execution_count": 1,
   "metadata": {},
   "outputs": [
    {
     "name": "stdout",
     "output_type": "stream",
     "text": [
      "Enter a number(Enter 'done' to break): 5\n",
      "Enter a number(Enter 'done' to break): 1\n",
      "Enter a number(Enter 'done' to break): 2\n",
      "Enter a number(Enter 'done' to break): 3\n",
      "Enter a number(Enter 'done' to break): 55\n",
      "Enter a number(Enter 'done' to break): 2\n",
      "Enter a number(Enter 'done' to break): done\n",
      "a = [5, 1, 2, 3, 55, 2]\n",
      "55 4\n"
     ]
    }
   ],
   "source": [
    "a = []\n",
    "while True:\n",
    "    n = input(\"Enter a number(Enter 'done' to break): \")\n",
    "    if n == \"done\":\n",
    "        break\n",
    "    try:\n",
    "        num = int(n)\n",
    "        a.append(num)\n",
    "    except:\n",
    "        print(\"Invalid input\")\n",
    "        continue\n",
    "    \n",
    "print('a =',a)\n",
    "b = a.index(max(a),1)\n",
    "print(max(a), b)"
   ]
  },
  {
   "cell_type": "code",
   "execution_count": 53,
   "metadata": {},
   "outputs": [
    {
     "name": "stdout",
     "output_type": "stream",
     "text": [
      "a = [6, 9, 6, 23, 12, 19, 14, 26]\n",
      "26 7\n"
     ]
    }
   ],
   "source": [
    "a = [6, 9, 6, 23, 12, 19, 14, 26]\n",
    "print('a =',a)\n",
    "b = a.index(max(a),1)\n",
    "print(max(a), b)"
   ]
  },
  {
   "cell_type": "markdown",
   "metadata": {},
   "source": [
    "### 3. Unique elements\n",
    "\n",
    "Given a list of integers, create a new list with the elements that appear in the original list only once. The elements must be listed in the order in which they occur in the original list. Don't use set. \n",
    "For example:\n",
    "```\n",
    "a = [4, 3, 5, 2, 5, 1, 3, 5]\n",
    "4 2 1\n",
    "```\n",
    "```\n",
    "a = [6, 9, 6, 23, 12, 19, 14, 26]\n",
    "9 23 12 19 14 26\n",
    "```\n",
    "Hint: Use a method available for a list object. Remember that `obejct`.<tab> displays a list of methods for the `object`."
   ]
  },
  {
   "cell_type": "code",
   "execution_count": 1,
   "metadata": {},
   "outputs": [
    {
     "name": "stdout",
     "output_type": "stream",
     "text": [
      "Enter a number(Enter 'done' to break): 4\n",
      "Enter a number(Enter 'done' to break): 3\n",
      "Enter a number(Enter 'done' to break): 5\n",
      "Enter a number(Enter 'done' to break): 2\n",
      "Enter a number(Enter 'done' to break): 5\n",
      "Enter a number(Enter 'done' to break): 1\n",
      "Enter a number(Enter 'done' to break): 3\n",
      "Enter a number(Enter 'done' to break): 5\n",
      "Enter a number(Enter 'done' to break): done\n",
      "a = [4, 3, 5, 2, 5, 1, 3, 5]\n",
      "4 2 1\n"
     ]
    }
   ],
   "source": [
    "a = []\n",
    "while True:\n",
    "    n = input(\"Enter a number(Enter 'done' to break): \")\n",
    "    if n == \"done\":\n",
    "        break\n",
    "    try:\n",
    "        num = int(n)\n",
    "        a.append(num)\n",
    "    except:\n",
    "        print(\"Invalid input\")\n",
    "        continue\n",
    "\n",
    "print('a =',a)\n",
    "for i in range(0,len(a),1):\n",
    "    if i < len(a):\n",
    "        q = a[i]\n",
    "    c = a.count(q)\n",
    "    if c != 1:\n",
    "        sequencecount = 0\n",
    "        while sequencecount < c:\n",
    "            a.remove(q)\n",
    "            sequencecount += 1\n",
    "print(\" \".join([str(i) for i in a] ))"
   ]
  },
  {
   "cell_type": "code",
   "execution_count": 2,
   "metadata": {},
   "outputs": [
    {
     "name": "stdout",
     "output_type": "stream",
     "text": [
      "a = [4, 3, 5, 2, 5, 1, 3, 5]\n",
      "4 2 1\n",
      "\n",
      "a = [6, 9, 6, 23, 12, 19, 14, 26]\n",
      "9 23 12 19 14 26\n"
     ]
    }
   ],
   "source": [
    "a = [4, 3, 5, 2, 5, 1, 3, 5]\n",
    "print('a =',a)\n",
    "for i in range(0,len(a),1):\n",
    "    if i < len(a):\n",
    "        q = a[i]\n",
    "    c = a.count(q)\n",
    "    if c != 1:\n",
    "        sequencecount = 0\n",
    "        while sequencecount < c:\n",
    "            a.remove(q)\n",
    "            sequencecount += 1\n",
    "print(\" \".join([str(i) for i in a] ))\n",
    "print()\n",
    "a = [6, 9, 6, 23, 12, 19, 14, 26]\n",
    "print('a =',a)\n",
    "for i in range(0,len(a),1):\n",
    "    if i < len(a):\n",
    "        q = a[i]\n",
    "    c = a.count(q)\n",
    "    if c != 1:\n",
    "            sequencecount = 0\n",
    "            while sequencecount < c:\n",
    "                a.remove(q)\n",
    "                sequencecount += 1\n",
    "print(\" \".join([str(i) for i in a] ))"
   ]
  },
  {
   "cell_type": "markdown",
   "metadata": {},
   "source": [
    "## 4. Grades\n",
    "Given a list of grades, count how many are above the average.\n",
    "1. Get average\n",
    "2. Find how many grades are above avg using for lopp, not using list comprehension"
   ]
  },
  {
   "cell_type": "code",
   "execution_count": 2,
   "metadata": {},
   "outputs": [
    {
     "name": "stdout",
     "output_type": "stream",
     "text": [
      "15 grades are above the average 74.6086956521739\n"
     ]
    }
   ],
   "source": [
    "grades = [88,67,45,67,76,78,53,87,12,100,77,89,92,53,95,99,76,87,56,45,98,87,89]\n",
    "\n",
    "avg = sum(grades)/len(grades)\n",
    "above = 0\n",
    "for i in range(0,len(grades),1):\n",
    "        q = grades[i]\n",
    "        b = float(q)\n",
    "        c = len(grades)\n",
    "        d = float(avg)\n",
    "        if b > d:\n",
    "            above += 1\n",
    "        \n",
    "print(above, \"grades are above the average\", avg)"
   ]
  },
  {
   "cell_type": "markdown",
   "metadata": {},
   "source": [
    "# Lec05 ControlFlow "
   ]
  },
  {
   "cell_type": "markdown",
   "metadata": {},
   "source": [
    "### 1. The count and sum of the sequence\n",
    "Count the number of input elements and determine the sum of all elements in the sequence. The user's input sequence ends with the number 0. Get the input data using input() and print the result using print().\n",
    "Some sample runs:\n",
    "```\n",
    "1\n",
    "7\n",
    "9\n",
    "0\n",
    "3 17\n",
    "```\n",
    "```\n",
    "1\n",
    "1\n",
    "1\n",
    "1\n",
    "1\n",
    "0\n",
    "5 5\n",
    "```\n",
    "```\n",
    "123\n",
    "0\n",
    "1 123\n",
    "```"
   ]
  },
  {
   "cell_type": "code",
   "execution_count": 3,
   "metadata": {},
   "outputs": [
    {
     "name": "stdout",
     "output_type": "stream",
     "text": [
      "Enter a number(Enter 'done' to break): 1\n",
      "Enter a number(Enter 'done' to break): 7\n",
      "Enter a number(Enter 'done' to break): \n",
      "Invalid input\n",
      "Enter a number(Enter 'done' to break): 9\n",
      "Enter a number(Enter 'done' to break): done\n",
      "0\n",
      "3 17\n"
     ]
    }
   ],
   "source": [
    "a = []\n",
    "while True:\n",
    "    n = input(\"Enter a number(Enter 'done' to break): \")\n",
    "    if n == \"done\":\n",
    "        break\n",
    "    try:\n",
    "        num = int(n)\n",
    "        a.append(num)\n",
    "    except:\n",
    "        print(\"Invalid input\")\n",
    "        continue\n",
    "        \n",
    "b = sum(a)\n",
    "print('0')\n",
    "print(len(a), b)"
   ]
  },
  {
   "cell_type": "code",
   "execution_count": 3,
   "metadata": {},
   "outputs": [
    {
     "name": "stdout",
     "output_type": "stream",
     "text": [
      "1\n",
      "7\n",
      "9\n",
      "0\n",
      "3 17\n",
      "\n",
      "1\n",
      "1\n",
      "1\n",
      "1\n",
      "1\n",
      "0\n",
      "5 5\n",
      "\n",
      "123\n",
      "0\n",
      "1 123\n"
     ]
    }
   ],
   "source": [
    "a = [1, 7, 9]\n",
    "b = sum(a)\n",
    "print(\"\\n\".join([str(i) for i in a] ))\n",
    "print('0')\n",
    "print(len(a), b)\n",
    "print()\n",
    "a = [1, 1, 1, 1, 1]\n",
    "b = sum(a)\n",
    "print(\"\\n\".join([str(i) for i in a] ))\n",
    "print('0')\n",
    "print(len(a), b)\n",
    "print()\n",
    "a = [123]\n",
    "b = sum(a)\n",
    "print(\"\\n\".join([str(i) for i in a] ))\n",
    "print('0')\n",
    "print(len(a), b)"
   ]
  },
  {
   "cell_type": "markdown",
   "metadata": {},
   "source": [
    "### 2. The second largest\n",
    "The sequence consists of _distinct positive integer numbers_ and ends with the number 0. Determine the value of the second largest element in this sequence. It is guaranteed that the sequence has at least two elements. Get the input data using input() and print the result using print(). \n",
    "\n",
    "Some sample runs:\n",
    "```\n",
    "1\n",
    "7\n",
    "9\n",
    "5\n",
    "0\n",
    "7\n",
    "```\n",
    "```\n",
    "7\n",
    "1\n",
    "8\n",
    "3\n",
    "0\n",
    "7\n",
    "```\n",
    "```\n",
    "9\n",
    "1\n",
    "2\n",
    "3\n",
    "7\n",
    "5\n",
    "0\n",
    "7\n",
    "```"
   ]
  },
  {
   "cell_type": "code",
   "execution_count": 11,
   "metadata": {},
   "outputs": [
    {
     "name": "stdout",
     "output_type": "stream",
     "text": [
      "Enter a number(Enter 'done' to break): 9\n",
      "Enter a number(Enter 'done' to break): 1\n",
      "Enter a number(Enter 'done' to break): 2\n",
      "Enter a number(Enter 'done' to break): 3\n",
      "Enter a number(Enter 'done' to break): 7\n",
      "Enter a number(Enter 'done' to break): 5\n",
      "Enter a number(Enter 'done' to break): done\n",
      "9\n",
      "1\n",
      "2\n",
      "3\n",
      "7\n",
      "5\n",
      "0\n",
      "7\n"
     ]
    }
   ],
   "source": [
    "a = []\n",
    "while True:\n",
    "    n = input(\"Enter a number(Enter 'done' to break): \")\n",
    "    if n == \"done\":\n",
    "        break\n",
    "    try:\n",
    "        num = int(n)\n",
    "        a.append(num)\n",
    "    except:\n",
    "        print(\"Invalid input\")\n",
    "        continue\n",
    "\n",
    "print(\"\\n\".join([str(i) for i in a] ))\n",
    "a.sort()\n",
    "b = a.index(max(a),1)\n",
    "c = b - 1\n",
    "d = a[c]\n",
    "print('0')\n",
    "print(d)"
   ]
  },
  {
   "cell_type": "code",
   "execution_count": 2,
   "metadata": {},
   "outputs": [
    {
     "name": "stdout",
     "output_type": "stream",
     "text": [
      "1\n",
      "7\n",
      "9\n",
      "5\n",
      "0\n",
      "7\n",
      "\n",
      "7\n",
      "1\n",
      "8\n",
      "3\n",
      "0\n",
      "7\n",
      "\n",
      "9\n",
      "1\n",
      "2\n",
      "3\n",
      "7\n",
      "5\n",
      "0\n",
      "7\n"
     ]
    }
   ],
   "source": [
    "a = [1, 7, 9, 5]\n",
    "print(\"\\n\".join([str(i) for i in a] ))\n",
    "a.sort()\n",
    "b = a.index(max(a),1)\n",
    "c = b - 1\n",
    "d = a[c]\n",
    "print('0')\n",
    "print(d)\n",
    "print()\n",
    "a = [7, 1, 8, 3]\n",
    "print(\"\\n\".join([str(i) for i in a] ))\n",
    "a.sort()\n",
    "b = a.index(max(a),1)\n",
    "c = b - 1\n",
    "d = a[c]\n",
    "print('0')\n",
    "print(d)\n",
    "print()\n",
    "a = [9, 1, 2, 3, 7, 5]\n",
    "print(\"\\n\".join([str(i) for i in a] ))\n",
    "a.sort()\n",
    "b = a.index(max(a),1)\n",
    "c = b - 1\n",
    "d = a[c]\n",
    "print('0')\n",
    "print(d)"
   ]
  },
  {
   "cell_type": "markdown",
   "metadata": {},
   "source": [
    "### 3. The second largest in a list\n",
    "The list consists of _distinct positive integer numbers_. Find the value of the second largest element in the list. It is guaranteed that the sequence has at least two elements. \n",
    "\n",
    "Some sample runs:\n",
    "```\n",
    "a = [1, 2, 3, 4]\n",
    "# your code here\n",
    "2 # It must be 3, not 2\n",
    "```\n",
    "```\n",
    "a = [4, 5, 3, 1, 2]\n",
    "# your code here\n",
    "4\n",
    "```\n",
    "```\n",
    "a = [10, 5, 7, 1, 9]\n",
    "# your code here\n",
    "9\n",
    "```\n",
    "```\n",
    "a = [2, 5, 7, 8, 9]\n",
    "# your code here\n",
    "7 # It should be 8, not 7\n",
    "```"
   ]
  },
  {
   "cell_type": "code",
   "execution_count": 4,
   "metadata": {},
   "outputs": [
    {
     "name": "stdout",
     "output_type": "stream",
     "text": [
      "a = [1, 2, 3, 4]\n",
      "3\n",
      "\n",
      "a = [4, 5, 3, 1, 2]\n",
      "4\n",
      "\n",
      "a = [10, 5, 7, 1, 9]\n",
      "9\n",
      "\n",
      "a = [2, 5, 7, 8, 9]\n",
      "8\n"
     ]
    }
   ],
   "source": [
    "a = [1, 2, 3, 4]\n",
    "print('a =',a)\n",
    "a.sort()\n",
    "b = a.index(max(a),1)\n",
    "c = b - 1\n",
    "d = a[c]\n",
    "print(d)\n",
    "print()\n",
    "a = [4, 5, 3, 1, 2]\n",
    "print('a =',a)\n",
    "a.sort()\n",
    "b = a.index(max(a),1)\n",
    "c = b - 1\n",
    "d = a[c]\n",
    "print(d)\n",
    "print()\n",
    "a = [10, 5, 7, 1, 9]\n",
    "print('a =',a)\n",
    "a.sort()\n",
    "b = a.index(max(a),1)\n",
    "c = b - 1\n",
    "d = a[c]\n",
    "print(d)\n",
    "print()\n",
    "a = [2, 5, 7, 8, 9]\n",
    "print('a =',a)\n",
    "a.sort()\n",
    "b = a.index(max(a),1)\n",
    "c = b - 1\n",
    "d = a[c]\n",
    "print(d)"
   ]
  },
  {
   "cell_type": "markdown",
   "metadata": {},
   "source": [
    "### 4. The maximum number of consecutive equal elements\n",
    "\n",
    "Given a sequence of integer numbers ending with the number 0. Determine the length of the widest fragment where all the elements are equal to each other. Get the input data using input() and print the result using print().\n",
    "\n",
    "__Some sample runs:__\n",
    "```\n",
    "1\n",
    "7\n",
    "7\n",
    "9\n",
    "1\n",
    "0\n",
    "2\n",
    "```\n",
    "```\n",
    "1\n",
    "2\n",
    "3\n",
    "10\n",
    "11\n",
    "0\n",
    "1\n",
    "```\n",
    "```\n",
    "3\n",
    "3\n",
    "3\n",
    "3\n",
    "0\n",
    "4\n",
    "```\n",
    "```\n",
    "1\n",
    "1\n",
    "2\n",
    "2\n",
    "2\n",
    "3\n",
    "3\n",
    "0\n",
    "2\n",
    "```"
   ]
  },
  {
   "cell_type": "code",
   "execution_count": 10,
   "metadata": {},
   "outputs": [
    {
     "name": "stdout",
     "output_type": "stream",
     "text": [
      "Enter a number(Enter 'done' to break): 1\n",
      "Enter a number(Enter 'done' to break): 7\n",
      "Enter a number(Enter 'done' to break): 7\n",
      "Enter a number(Enter 'done' to break): 9\n",
      "Enter a number(Enter 'done' to break): 1\n",
      "Enter a number(Enter 'done' to break): done\n",
      "1\n",
      "7\n",
      "7\n",
      "9\n",
      "1\n",
      "0\n",
      "2\n"
     ]
    }
   ],
   "source": [
    "a = []\n",
    "while True:\n",
    "    n = input(\"Enter a number(Enter 'done' to break): \")\n",
    "    if n == \"done\":\n",
    "        break\n",
    "    try:\n",
    "        num = int(n)\n",
    "        a.append(num)\n",
    "    except:\n",
    "        print(\"Invalid input\")\n",
    "        continue\n",
    "        \n",
    "print(\"\\n\".join([str(i) for i in a] ))\n",
    "b = a[:]\n",
    "for i in range(0,len(b)+1,1):\n",
    "    if i < len(b):\n",
    "        q = b[i]\n",
    "    c = b.count(q)\n",
    "    if c != 1:\n",
    "        sequencecount = 0\n",
    "        while sequencecount < c:\n",
    "            b.remove(q)\n",
    "            sequencecount += 1\n",
    "for i in range(0,len(b)+1,1):\n",
    "    if i < len(b):\n",
    "        q = b[i]\n",
    "    c = b.count(q)\n",
    "    if c != 1:\n",
    "        sequencecount = 0\n",
    "        while sequencecount < c:\n",
    "            b.remove(q)\n",
    "            sequencecount += 1\n",
    "if not b:\n",
    "    print('0')\n",
    "    print(a.count(max(a)))\n",
    "else:\n",
    "        seta=set(a)\n",
    "        setb=set(b)\n",
    "        differenceset=list(seta.difference(setb))\n",
    "        if not differenceset:\n",
    "            print('0')\n",
    "            print('1')\n",
    "        else:\n",
    "            differencemax=max(differenceset)\n",
    "            maxacount=a.count(differencemax)\n",
    "            print('0')\n",
    "            print(maxacount)"
   ]
  },
  {
   "cell_type": "code",
   "execution_count": 3,
   "metadata": {},
   "outputs": [
    {
     "name": "stdout",
     "output_type": "stream",
     "text": [
      "1\n",
      "7\n",
      "7\n",
      "9\n",
      "1\n",
      "0\n",
      "2\n",
      "\n",
      "1\n",
      "2\n",
      "3\n",
      "10\n",
      "11\n",
      "0\n",
      "1\n",
      "\n",
      "3\n",
      "3\n",
      "3\n",
      "3\n",
      "0\n",
      "4\n",
      "\n",
      "1\n",
      "1\n",
      "2\n",
      "2\n",
      "22\n",
      "3\n",
      "3\n",
      "0\n",
      "2\n"
     ]
    }
   ],
   "source": [
    "a = [1, 7, 7, 9, 1]\n",
    "print(\"\\n\".join([str(i) for i in a] ))\n",
    "b = a[:]\n",
    "for i in range(0,len(b)+1,1):\n",
    "    if i < len(b):\n",
    "        q = b[i]\n",
    "    c = b.count(q)\n",
    "    if c != 1:\n",
    "        sequencecount = 0\n",
    "        while sequencecount < c:\n",
    "            b.remove(q)\n",
    "            sequencecount += 1\n",
    "for i in range(0,len(b)+1,1):\n",
    "    if i < len(b):\n",
    "        q = b[i]\n",
    "    c = b.count(q)\n",
    "    if c != 1:\n",
    "        sequencecount = 0\n",
    "        while sequencecount < c:\n",
    "            b.remove(q)\n",
    "            sequencecount += 1\n",
    "if not b:\n",
    "    print('0')\n",
    "    print(a.count(max(a)))\n",
    "else:\n",
    "        seta=set(a)\n",
    "        setb=set(b)\n",
    "        differenceset=list(seta.difference(setb))\n",
    "        if not differenceset:\n",
    "            print('0')\n",
    "            print('1')\n",
    "        else:\n",
    "            differencemax=max(differenceset)\n",
    "            maxacount=a.count(differencemax)\n",
    "            print('0')\n",
    "            print(maxacount)\n",
    "print()\n",
    "a = [1, 2, 3, 10, 11]\n",
    "print(\"\\n\".join([str(i) for i in a] ))\n",
    "b = a[:]\n",
    "for i in range(0,len(b)+1,1):\n",
    "    if i < len(b):\n",
    "        q = b[i]\n",
    "    c = b.count(q)\n",
    "    if c != 1:\n",
    "        sequencecount = 0\n",
    "        while sequencecount < c:\n",
    "            b.remove(q)\n",
    "            sequencecount += 1\n",
    "for i in range(0,len(b)+1,1):\n",
    "    if i < len(b):\n",
    "        q = b[i]\n",
    "    c = b.count(q)\n",
    "    if c != 1:\n",
    "        sequencecount = 0\n",
    "        while sequencecount < c:\n",
    "            b.remove(q)\n",
    "            sequencecount += 1\n",
    "if not b:\n",
    "    print('0')\n",
    "    print(a.count(max(a)))\n",
    "else:\n",
    "        seta=set(a)\n",
    "        setb=set(b)\n",
    "        differenceset=list(seta.difference(setb))\n",
    "        if not differenceset:\n",
    "            print('0')\n",
    "            print('1')\n",
    "        else:\n",
    "            differencemax=max(differenceset)\n",
    "            maxacount=a.count(differencemax)\n",
    "            print('0')\n",
    "            print(maxacount)\n",
    "print()\n",
    "a = [3, 3, 3, 3]\n",
    "print(\"\\n\".join([str(i) for i in a] ))\n",
    "b = a[:]\n",
    "for i in range(0,len(b)+1,1):\n",
    "    if i < len(b):\n",
    "        q = b[i]\n",
    "    c = b.count(q)\n",
    "    if c != 1:\n",
    "        sequencecount = 0\n",
    "        while sequencecount < c:\n",
    "            b.remove(q)\n",
    "            sequencecount += 1\n",
    "for i in range(0,len(b)+1,1):\n",
    "    if i < len(b):\n",
    "        q = b[i]\n",
    "    c = b.count(q)\n",
    "    if c != 1:\n",
    "        sequencecount = 0\n",
    "        while sequencecount < c:\n",
    "            b.remove(q)\n",
    "            sequencecount += 1\n",
    "if not b:\n",
    "    print('0')\n",
    "    print(a.count(max(a)))\n",
    "else:\n",
    "        seta=set(a)\n",
    "        setb=set(b)\n",
    "        differenceset=list(seta.difference(setb))\n",
    "        if not differenceset:\n",
    "            print('0')\n",
    "            print('1')\n",
    "        else:\n",
    "            differencemax=max(differenceset)\n",
    "            maxacount=a.count(differencemax)\n",
    "            print('0')\n",
    "            print(maxacount)\n",
    "print()\n",
    "a = [1, 1, 2, 2, 2, 3, 3]\n",
    "print(\"\\n\".join([str(i) for i in a] ))\n",
    "b = a[:]\n",
    "for i in range(0,len(b)+1,1):\n",
    "    if i < len(b):\n",
    "        q = b[i]\n",
    "    c = b.count(q)\n",
    "    if c != 1:\n",
    "        sequencecount = 0\n",
    "        while sequencecount < c:\n",
    "            b.remove(q)\n",
    "            sequencecount += 1\n",
    "for i in range(0,len(b)+1,1):\n",
    "    if i < len(b):\n",
    "        q = b[i]\n",
    "    c = b.count(q)\n",
    "    if c != 1:\n",
    "        sequencecount = 0\n",
    "        while sequencecount < c:\n",
    "            b.remove(q)\n",
    "            sequencecount += 1\n",
    "if not b:\n",
    "    print('0')\n",
    "    print(a.count(max(a)))\n",
    "else:\n",
    "        seta=set(a)\n",
    "        setb=set(b)\n",
    "        differenceset=list(seta.difference(setb))\n",
    "        if not differenceset:\n",
    "            print('0')\n",
    "            print('1')\n",
    "        else:\n",
    "            differencemax=max(differenceset)\n",
    "            maxacount=a.count(differencemax)\n",
    "            print('0')\n",
    "            print(maxacount)"
   ]
  },
  {
   "cell_type": "markdown",
   "metadata": {},
   "source": [
    "### 5. The maximum number of consecutive equal elements in a list\n",
    "\n",
    "Given a sequence of integer numbers in a list, determine the length of the widest fragment where all the elements are equal to each other. \n",
    "\n",
    "__Some sample runs:__\n",
    "```\n",
    "a = [1, 7, 7, 9, 1]\n",
    "# your code here\n",
    "2\n",
    "```\n",
    "```\n",
    "a = [1, 2, 3, 10, 11]\n",
    "# your code here\n",
    "1\n",
    "```\n",
    "```\n",
    "a = [3, 3, 3, 3]\n",
    "# your code here\n",
    "4\n",
    "```\n",
    "```\n",
    "a = [1, 1, 2, 2, 2, 3, 3]\n",
    "# your code here\n",
    "2\n",
    "```"
   ]
  },
  {
   "cell_type": "code",
   "execution_count": 6,
   "metadata": {},
   "outputs": [
    {
     "name": "stdout",
     "output_type": "stream",
     "text": [
      "a = [1, 7, 7, 9, 1]\n",
      "2\n",
      "a = [1, 2, 3, 10, 11]\n",
      "1\n",
      "a = [3, 3, 3, 3]\n",
      "4\n",
      "a = [1, 1, 2, 2, 2, 3, 3]\n",
      "2\n"
     ]
    }
   ],
   "source": [
    "a = [1, 7, 7, 9, 1]\n",
    "print('a =',a)\n",
    "b = a[:]\n",
    "for i in range(0,len(b)+1,1):\n",
    "    if i < len(b):\n",
    "        q = b[i]\n",
    "    c = b.count(q)\n",
    "    if c != 1:\n",
    "        sequencecount = 0\n",
    "        while sequencecount < c:\n",
    "            b.remove(q)\n",
    "            sequencecount += 1\n",
    "for i in range(0,len(b)+1,1):\n",
    "    if i < len(b):\n",
    "        q = b[i]\n",
    "    c = b.count(q)\n",
    "    if c != 1:\n",
    "        sequencecount = 0\n",
    "        while sequencecount < c:\n",
    "            b.remove(q)\n",
    "            sequencecount += 1\n",
    "if not b:\n",
    "    print(a.count(max(a)))\n",
    "else:\n",
    "        seta=set(a)\n",
    "        setb=set(b)\n",
    "        differenceset=list(seta.difference(setb))\n",
    "        if not differenceset:\n",
    "            print('1')\n",
    "        else:\n",
    "            differencemax=max(differenceset)\n",
    "            maxacount=a.count(differencemax)\n",
    "            print(maxacount)\n",
    "a = [1, 2, 3, 10, 11]\n",
    "print('a =',a)\n",
    "b = a[:]\n",
    "for i in range(0,len(b)+1,1):\n",
    "    if i < len(b):\n",
    "        q = b[i]\n",
    "    c = b.count(q)\n",
    "    if c != 1:\n",
    "        sequencecount = 0\n",
    "        while sequencecount < c:\n",
    "            b.remove(q)\n",
    "            sequencecount += 1\n",
    "for i in range(0,len(b)+1,1):\n",
    "    if i < len(b):\n",
    "        q = b[i]\n",
    "    c = b.count(q)\n",
    "    if c != 1:\n",
    "        sequencecount = 0\n",
    "        while sequencecount < c:\n",
    "            b.remove(q)\n",
    "            sequencecount += 1\n",
    "if not b:\n",
    "    print(a.count(max(a)))\n",
    "else:\n",
    "        seta=set(a)\n",
    "        setb=set(b)\n",
    "        differenceset=list(seta.difference(setb))\n",
    "        if not differenceset:\n",
    "            print('1')\n",
    "        else:\n",
    "            differencemax=max(differenceset)\n",
    "            maxacount=a.count(differencemax)\n",
    "            print(maxacount)\n",
    "a = [3, 3, 3, 3]\n",
    "print('a =',a)\n",
    "b = a[:]\n",
    "for i in range(0,len(b)+1,1):\n",
    "    if i < len(b):\n",
    "        q = b[i]\n",
    "    c = b.count(q)\n",
    "    if c != 1:\n",
    "        sequencecount = 0\n",
    "        while sequencecount < c:\n",
    "            b.remove(q)\n",
    "            sequencecount += 1\n",
    "for i in range(0,len(b)+1,1):\n",
    "    if i < len(b):\n",
    "        q = b[i]\n",
    "    c = b.count(q)\n",
    "    if c != 1:\n",
    "        sequencecount = 0\n",
    "        while sequencecount < c:\n",
    "            b.remove(q)\n",
    "            sequencecount += 1\n",
    "if not b:\n",
    "    print(a.count(max(a)))\n",
    "else:\n",
    "        seta=set(a)\n",
    "        setb=set(b)\n",
    "        differenceset=list(seta.difference(setb))\n",
    "        if not differenceset:\n",
    "            print('1')\n",
    "        else:\n",
    "            differencemax=max(differenceset)\n",
    "            maxacount=a.count(differencemax)\n",
    "            print(maxacount)\n",
    "a = [1, 1, 2, 2, 2, 3, 3]\n",
    "print('a =',a)\n",
    "b = a[:]\n",
    "for i in range(0,len(b)+1,1):\n",
    "    if i < len(b):\n",
    "        q = b[i]\n",
    "    c = b.count(q)\n",
    "    if c != 1:\n",
    "        sequencecount = 0\n",
    "        while sequencecount < c:\n",
    "            b.remove(q)\n",
    "            sequencecount += 1\n",
    "for i in range(0,len(b)+1,1):\n",
    "    if i < len(b):\n",
    "        q = b[i]\n",
    "    c = b.count(q)\n",
    "    if c != 1:\n",
    "        sequencecount = 0\n",
    "        while sequencecount < c:\n",
    "            b.remove(q)\n",
    "            sequencecount += 1\n",
    "if not b:\n",
    "    print(a.count(max(a)))\n",
    "else:\n",
    "        seta=set(a)\n",
    "        setb=set(b)\n",
    "        differenceset=list(seta.difference(setb))\n",
    "        if not differenceset:\n",
    "            print('1')\n",
    "        else:\n",
    "            differencemax=max(differenceset)\n",
    "            maxacount=a.count(differencemax)\n",
    "            print(maxacount)"
   ]
  },
  {
   "cell_type": "markdown",
   "metadata": {},
   "source": [
    "### 6. Black Jack (version 3)\n",
    "\n",
    "Enhance the black jack game such that an ace card (or 1) can be considered either 1 or 10 for the player. For example, if a player gets 5, 1, and 6, his score becomes 21. If a player gets 10, 7, and 1, his score becomes 18.\n"
   ]
  },
  {
   "cell_type": "code",
   "execution_count": 8,
   "metadata": {},
   "outputs": [
    {
     "name": "stdout",
     "output_type": "stream",
     "text": [
      "Enter a number(Enter 'done' to break): 3\n",
      "Enter a number(Enter 'done' to break): dodo\n",
      "Invalid input\n",
      "Enter a number(Enter 'done' to break): 5\n",
      "Enter a number(Enter 'done' to break): 1\n",
      "Enter a number(Enter 'done' to break): 6\n",
      "Enter a number(Enter 'done' to break): done\n",
      "if a player gets 3, 5, 1, and 6, his score becomes 24\n"
     ]
    }
   ],
   "source": [
    "a = []\n",
    "while True:\n",
    "    n = input(\"Enter a number(Enter 'done' to break): \")\n",
    "    if n == \"done\":\n",
    "        break\n",
    "    try:\n",
    "        num = int(n)\n",
    "        a.append(num)\n",
    "    except:\n",
    "        print(\"Invalid input\")\n",
    "        continue\n",
    "\n",
    "if a.count(1) >= 1 and a.count(10) == 0:\n",
    "    frontblackjack = a[0:len(a)-1:1]\n",
    "    lastblackjack = a[len(a)-1:len(a):1]\n",
    "    a.remove(1)\n",
    "    a.append(10)\n",
    "    suma = sum(a)\n",
    "    x = str(frontblackjack).replace(\"[\",\"\")\n",
    "    xx = str(x).replace(\"]\",\"\")\n",
    "    y = str(lastblackjack).replace(\"[\",\"\")\n",
    "    yy = str(y).replace(\"]\",\"\")\n",
    "    z = str(sum(a))\n",
    "    print('if a player gets ' + xx + ', and ' + yy + ', his score becomes ' + z)\n",
    "else:\n",
    "    frontblackjack = a[0:len(a)-1:1]\n",
    "    lastblackjack = a[len(a)-1:len(a):1]\n",
    "    suma = sum(a)\n",
    "    x = str(frontblackjack).replace(\"[\",\"\")\n",
    "    xx = str(x).replace(\"]\",\"\")\n",
    "    y = str(lastblackjack).replace(\"[\",\"\")\n",
    "    yy = str(y).replace(\"]\",\"\")\n",
    "    z = str(sum(a))\n",
    "    print('if a player gets ' + xx + ', and ' + yy + ', his score becomes ' + z)"
   ]
  },
  {
   "cell_type": "code",
   "execution_count": 1,
   "metadata": {},
   "outputs": [
    {
     "name": "stdout",
     "output_type": "stream",
     "text": [
      "if a player gets 5, 1, and 6, his score becomes 21\n",
      "if a player gets 10, 7, and 1, his score becomes 18\n"
     ]
    }
   ],
   "source": [
    "a = [5, 1, 6]\n",
    "if a.count(1) >= 1 and a.count(10) == 0:\n",
    "    frontblackjack = a[0:len(a)-1:1]\n",
    "    lastblackjack = a[len(a)-1:len(a):1]\n",
    "    a.remove(1)\n",
    "    a.append(10)\n",
    "    suma = sum(a)\n",
    "    x = str(frontblackjack).replace(\"[\",\"\")\n",
    "    xx = str(x).replace(\"]\",\"\")\n",
    "    y = str(lastblackjack).replace(\"[\",\"\")\n",
    "    yy = str(y).replace(\"]\",\"\")\n",
    "    z = str(sum(a))\n",
    "    print('if a player gets ' + xx + ', and ' + yy + ', his score becomes ' + z)\n",
    "else:\n",
    "    frontblackjack = a[0:len(a)-1:1]\n",
    "    lastblackjack = a[len(a)-1:len(a):1]\n",
    "    suma = sum(a)\n",
    "    x = str(frontblackjack).replace(\"[\",\"\")\n",
    "    xx = str(x).replace(\"]\",\"\")\n",
    "    y = str(lastblackjack).replace(\"[\",\"\")\n",
    "    yy = str(y).replace(\"]\",\"\")\n",
    "    z = str(sum(a))\n",
    "    print('if a player gets ' + xx + ', and ' + yy + ', his score becomes ' + z)\n",
    "a = [10, 7, 1]\n",
    "if a.count(1) >= 1 and a.count(10) == 0:\n",
    "    frontblackjack = a[0:len(a)-1:1]\n",
    "    lastblackjack = a[len(a)-1:len(a):1]\n",
    "    a.remove(1)\n",
    "    a.append(10)\n",
    "    suma = sum(a)\n",
    "    x = str(frontblackjack).replace(\"[\",\"\")\n",
    "    xx = str(x).replace(\"]\",\"\")\n",
    "    y = str(lastblackjack).replace(\"[\",\"\")\n",
    "    yy = str(y).replace(\"]\",\"\")\n",
    "    z = str(sum(a))\n",
    "    print('if a player gets ' + xx + ', and ' + yy + ', his score becomes ' + z)\n",
    "else:\n",
    "    frontblackjack = a[0:len(a)-1:1]\n",
    "    lastblackjack = a[len(a)-1:len(a):1]\n",
    "    suma = sum(a)\n",
    "    x = str(frontblackjack).replace(\"[\",\"\")\n",
    "    xx = str(x).replace(\"]\",\"\")\n",
    "    y = str(lastblackjack).replace(\"[\",\"\")\n",
    "    yy = str(y).replace(\"]\",\"\")\n",
    "    z = str(sum(a))\n",
    "    print('if a player gets ' + xx + ', and ' + yy + ', his score becomes ' + z)"
   ]
  }
 ],
 "metadata": {
  "kernelspec": {
   "display_name": "Python 3",
   "language": "python",
   "name": "python3"
  },
  "language_info": {
   "codemirror_mode": {
    "name": "ipython",
    "version": 3
   },
   "file_extension": ".py",
   "mimetype": "text/x-python",
   "name": "python",
   "nbconvert_exporter": "python",
   "pygments_lexer": "ipython3",
   "version": "3.7.1"
  }
 },
 "nbformat": 4,
 "nbformat_minor": 2
}
